{
 "cells": [
  {
   "cell_type": "markdown",
   "metadata": {},
   "source": [
    "[171109 - AMS] Created notebook\n",
    "\n",
    "This notebook re-creates Fig 1 from Brentjens & de Bruyn (2005)\n",
    "\n",
    "-------"
   ]
  },
  {
   "cell_type": "code",
   "execution_count": 1,
   "metadata": {},
   "outputs": [],
   "source": [
    "# this embeds plots in the notebook\n",
    "%matplotlib inline  "
   ]
  },
  {
   "cell_type": "code",
   "execution_count": 2,
   "metadata": {
    "collapsed": true
   },
   "outputs": [],
   "source": [
    "import numpy as np  # for arrays\n",
    "import pylab as pl  # for plotting"
   ]
  },
  {
   "cell_type": "markdown",
   "metadata": {},
   "source": [
    "-------"
   ]
  },
  {
   "cell_type": "markdown",
   "metadata": {},
   "source": [
    "Make a function for the Galactic foreground:\n",
    "\n",
    "$$\n",
    "F_{\\rm gal}(\\phi) = (2\\phi_{\\rm fg})^{-1}~~~~-\\phi_{\\rm fg} \\lt \\phi \\lt \\phi_{\\rm fg}\n",
    "$$\n",
    "\n",
    "and zero elsewhere. Therefore:\n",
    "\n",
    "$$\n",
    "P_{\\rm gal}(\\lambda^2) = \\frac{\\sin (2\\phi_{\\rm fg} \\lambda^2)}{2\\phi_{\\rm fg}\\lambda^2}\n",
    "$$"
   ]
  },
  {
   "cell_type": "markdown",
   "metadata": {},
   "source": [
    "Make an array of $\\lambda^2$ values:"
   ]
  },
  {
   "cell_type": "code",
   "execution_count": 3,
   "metadata": {},
   "outputs": [],
   "source": [
    "lam_sq = np.arange(0.01,1,0.01)"
   ]
  },
  {
   "cell_type": "markdown",
   "metadata": {},
   "source": [
    "We're going to specify that $\\phi_{\\rm fg}= 2\\,{\\rm rad\\,m^{-2}}$. We can then compute the Galactic contribution at each value of $\\lambda^2$:"
   ]
  },
  {
   "cell_type": "code",
   "execution_count": 4,
   "metadata": {},
   "outputs": [],
   "source": [
    "phi_fg = 2.\n",
    "P_gal = np.sin(2*phi_fg*lam_sq)/(2*phi_fg*lam_sq) + 0*1j"
   ]
  },
  {
   "cell_type": "markdown",
   "metadata": {},
   "source": [
    "---------"
   ]
  },
  {
   "cell_type": "markdown",
   "metadata": {},
   "source": [
    "Now make a function for the radio galaxy lobe:\n",
    "\n",
    "$$\n",
    "F_{\\rm rg}(\\phi) = 0.25\\delta(\\phi - \\phi_1)\n",
    "$$\n",
    "\n",
    "therefore:\n",
    "\n",
    "$$\n",
    "P_{\\rm rg}(\\lambda^2) = 0.25 \\exp (2i\\phi_1 \\lambda^2) \n",
    "$$\n",
    "\n",
    "which is equivalent to:\n",
    "\n",
    "$$\n",
    "P_{\\rm rg}(\\lambda^2) = 0.25 \\cos (2\\phi_1 \\lambda^2) + 0.25 i \\sin (2\\phi_1 \\lambda^2)\n",
    "$$\n",
    "\n",
    "so,\n",
    "\n",
    "$$\n",
    "Q_{\\rm rg}(\\lambda^2) = 0.25 \\cos (2\\phi_1 \\lambda^2) \n",
    "$$\n",
    "\n",
    "and \n",
    "\n",
    "$$\n",
    "U_{\\rm rg}(\\lambda^2) = 0.25 \\sin (2\\phi_1 \\lambda^2) \n",
    "$$"
   ]
  },
  {
   "cell_type": "markdown",
   "metadata": {},
   "source": [
    "We're going to specify that $\\phi_1= 10\\,{\\rm rad\\,m^{-2}}$. We can then compute the contribution from the radio galaxy lobe at each value of $\\lambda^2$:"
   ]
  },
  {
   "cell_type": "code",
   "execution_count": 5,
   "metadata": {
    "collapsed": true
   },
   "outputs": [],
   "source": [
    "phi_1 = 10.\n",
    "P_rg = 0.25*np.cos(2*phi_1*lam_sq) + 1j*0.25*np.sin(2*phi_1*lam_sq)"
   ]
  },
  {
   "cell_type": "markdown",
   "metadata": {},
   "source": [
    "------"
   ]
  },
  {
   "cell_type": "markdown",
   "metadata": {},
   "source": [
    "The total polarized signal will be the sum of the radio galaxy contribution and the Galactic contribution:"
   ]
  },
  {
   "cell_type": "code",
   "execution_count": 6,
   "metadata": {
    "collapsed": true
   },
   "outputs": [],
   "source": [
    "P_tot = P_gal + P_rg"
   ]
  },
  {
   "cell_type": "markdown",
   "metadata": {},
   "source": [
    "------"
   ]
  },
  {
   "cell_type": "markdown",
   "metadata": {},
   "source": [
    "Now let's re-create Fig. 1 from Brentjens & de Bruyn (2005; https://arxiv.org/pdf/astro-ph/0507349.pdf)"
   ]
  },
  {
   "cell_type": "markdown",
   "metadata": {},
   "source": [
    "First let's plot $Q_{\\rm gal}$ (called $Q_{\\rm fg}$ in the paper):"
   ]
  },
  {
   "cell_type": "code",
   "execution_count": 7,
   "metadata": {},
   "outputs": [
    {
     "data": {
      "image/png": "[encoded data removed]",
      "text/plain": [
       "<matplotlib.figure.Figure at 0x10cb19f90>"
      ]
     },
     "metadata": {},
     "output_type": "display_data"
    }
   ],
   "source": [
    "pl.subplot(111)\n",
    "pl.plot(lam_sq,P_gal.real,ls='--')\n",
    "pl.xlabel(r\"$\\lambda^2$ [m$^2$]\")\n",
    "pl.ylabel(\"Flux [Jy]\")\n",
    "pl.axis([0,1,-0.2,1.4])\n",
    "pl.show()"
   ]
  },
  {
   "cell_type": "markdown",
   "metadata": {},
   "source": [
    "Now let's plot on the magnitude of the total polarization as well:"
   ]
  },
  {
   "cell_type": "code",
   "execution_count": 8,
   "metadata": {},
   "outputs": [
    {
     "data": {
      "image/png": "[encoded data removed]",
      "text/plain": [
       "<matplotlib.figure.Figure at 0x10cc36a50>"
      ]
     },
     "metadata": {},
     "output_type": "display_data"
    }
   ],
   "source": [
    "pl.subplot(111)\n",
    "pl.plot(lam_sq,P_gal.real,ls='--')\n",
    "pl.plot(lam_sq,np.absolute(P_tot),ls=':')\n",
    "pl.xlabel(r\"$\\lambda^2$ [m$^2$]\")\n",
    "pl.ylabel(\"Flux [Jy]\")\n",
    "pl.axis([0,1,-0.2,1.4])\n",
    "pl.show()"
   ]
  },
  {
   "cell_type": "markdown",
   "metadata": {},
   "source": [
    "Now let's calculate the polarization angle:\n",
    "\n",
    "$$\n",
    "\\chi = 0.5\\tan^{-1}\\left(\\frac{U}{Q}\\right)\n",
    "$$\n",
    "\n",
    "where $U$ is the imaginary part of the complex polarization, $P$, and $Q$ is the real part."
   ]
  },
  {
   "cell_type": "code",
   "execution_count": 9,
   "metadata": {},
   "outputs": [],
   "source": [
    "chi = 0.5*np.arctan2(P_tot.imag,P_tot.real)\n",
    "chi*= (180./np.pi)   # convert radians to degrees\n",
    "\n",
    "# hack to unwrap the arctangent [-pi/2,pi/2] wrap:\n",
    "for i in range(1,len(chi)):\n",
    "    delta_chi = np.abs(chi[i]-chi[i-1])\n",
    "    if (delta_chi>45.):\n",
    "        chi[i:]+=180."
   ]
  },
  {
   "cell_type": "code",
   "execution_count": 10,
   "metadata": {},
   "outputs": [
    {
     "data": {
      "image/png": "[encoded data removed]",
      "text/plain": [
       "<matplotlib.figure.Figure at 0x10ccf3090>"
      ]
     },
     "metadata": {},
     "output_type": "display_data"
    }
   ],
   "source": [
    "pl.subplot(111)\n",
    "pl.plot(lam_sq,chi)\n",
    "pl.xlabel(r\"$\\lambda^2$ [m$^2$]\")\n",
    "pl.ylabel(r\"$\\chi$ [deg]\")\n",
    "pl.axis([0,1,-50,350])\n",
    "pl.show()"
   ]
  },
  {
   "cell_type": "markdown",
   "metadata": {},
   "source": [
    "Now plot it all together:"
   ]
  },
  {
   "cell_type": "code",
   "execution_count": 12,
   "metadata": {},
   "outputs": [
    {
     "data": {
      "image/png": "[encoded data removed]",
      "text/plain": [
       "<matplotlib.figure.Figure at 0x10cdcf610>"
      ]
     },
     "metadata": {},
     "output_type": "display_data"
    }
   ],
   "source": [
    "fig, ax1 = pl.subplots()\n",
    "ln1 = ax1.plot(lam_sq, chi, 'b-',label=r\"$\\chi$\")\n",
    "ax1.set_xlabel(r\"$\\lambda^2$ [m$^2$]\")\n",
    "ax1.set_ylabel(r\"$\\chi$ [deg]\")\n",
    "ax1.set_ylim(-50, 350)\n",
    "\n",
    "ax2 = ax1.twinx()\n",
    "ln2 = ax2.plot(lam_sq,np.absolute(P_tot),ls=':',label=r\"$|P|$\")\n",
    "ln3 = ax2.plot(lam_sq,P_gal.real,ls='--',label=r\"$Q_{\\rm fg}$\")\n",
    "ax2.set_ylabel(\"Flux [Jy]\")\n",
    "ax2.set_ylim(-0.2, 1.4)\n",
    "\n",
    "# figure legend:\n",
    "lns = ln1+ln2+ln3\n",
    "labs = [l.get_label() for l in lns]\n",
    "ax2.legend(lns, labs, loc=1)\n",
    "\n",
    "fig.tight_layout()\n",
    "pl.savefig(\"Fig1.png\")\n",
    "pl.show()"
   ]
  },
  {
   "cell_type": "code",
   "execution_count": null,
   "metadata": {
    "collapsed": true
   },
   "outputs": [],
   "source": []
  },
  {
   "cell_type": "code",
   "execution_count": null,
   "metadata": {
    "collapsed": true
   },
   "outputs": [],
   "source": []
  }
 ],
 "metadata": {
  "kernelspec": {
   "display_name": "Python 2",
   "language": "python",
   "name": "python2"
  },
  "language_info": {
   "codemirror_mode": {
    "name": "ipython",
    "version": 2
   },
   "file_extension": ".py",
   "mimetype": "text/x-python",
   "name": "python",
   "nbconvert_exporter": "python",
   "pygments_lexer": "ipython2",
   "version": "2.7.13"
  }
 },
 "nbformat": 4,
 "nbformat_minor": 2
}
